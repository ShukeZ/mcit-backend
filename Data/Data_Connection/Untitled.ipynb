{
 "cells": [
  {
   "cell_type": "code",
   "execution_count": 21,
   "metadata": {},
   "outputs": [
    {
     "name": "stdout",
     "output_type": "stream",
     "text": [
      "<mysql.connector.connection_cext.CMySQLConnection object at 0x7f9cfcf6ea90>\n"
     ]
    }
   ],
   "source": [
    "import mysql.connector as cxn\n",
    "import json\n",
    "import pandas as pd\n",
    "\n",
    "\n",
    "connection = cxn.connect(user='root', password='Hackathon2021'\n",
    "                            , host='127.0.0.1'\n",
    "                            , database='sample')\n",
    "print(connection)"
   ]
  },
  {
   "cell_type": "code",
   "execution_count": 22,
   "metadata": {},
   "outputs": [
    {
     "name": "stdout",
     "output_type": "stream",
     "text": [
      "(1, 'Java Developer', 'XYZ Corp.,', 'Austin', 'TX', 'US', 'Austin, TX', 'Dice', 'Mon, 02 Aug 2017 16:21:00 GMT', 'looking for an object-oriented Java Developer...Java Servlets, HTML, JavaScript, AJAX, Struts, Struts2, JSF) desirable. Familiarity with Tomcat and the Java...', 'https://www.indeed.com/viewjob?jk=12345&indpubnum=8343699265155203', \"indeed_clk(this, '0000');\", 30.2713, -97.741, 12345, 0, 0, 1, 'Austin, TX', '11 hours ago')\n"
     ]
    }
   ],
   "source": [
    "cursor = connection.cursor()\n",
    "cursor.execute(\"\"\"SELECT * FROM sample.sample;\"\"\")\n",
    "myresult = cursor.fetchall()\n",
    "\n",
    "for x in myresult:\n",
    "  print(x)"
   ]
  },
  {
   "cell_type": "code",
   "execution_count": 24,
   "metadata": {},
   "outputs": [],
   "source": [
    "connection.commit()\n",
    "cursor.close()\n",
    "connection.close()"
   ]
  },
  {
   "cell_type": "code",
   "execution_count": null,
   "metadata": {},
   "outputs": [],
   "source": []
  },
  {
   "cell_type": "code",
   "execution_count": null,
   "metadata": {},
   "outputs": [],
   "source": []
  }
 ],
 "metadata": {
  "kernelspec": {
   "display_name": "Python 3",
   "language": "python",
   "name": "python3"
  },
  "language_info": {
   "codemirror_mode": {
    "name": "ipython",
    "version": 3
   },
   "file_extension": ".py",
   "mimetype": "text/x-python",
   "name": "python",
   "nbconvert_exporter": "python",
   "pygments_lexer": "ipython3",
   "version": "3.8.5"
  }
 },
 "nbformat": 4,
 "nbformat_minor": 4
}
