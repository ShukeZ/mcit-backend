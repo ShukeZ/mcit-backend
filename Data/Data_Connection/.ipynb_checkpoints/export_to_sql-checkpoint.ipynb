{
 "cells": [
  {
   "cell_type": "code",
   "execution_count": 10,
   "metadata": {},
   "outputs": [],
   "source": [
    "import mysql.connector as cxn\n",
    "import json\n",
    "import pandas as pd"
   ]
  },
  {
   "cell_type": "code",
   "execution_count": 11,
   "metadata": {},
   "outputs": [
    {
     "name": "stdout",
     "output_type": "stream",
     "text": [
      "<mysql.connector.connection_cext.CMySQLConnection object at 0x7f9c2f87d0d0>\n"
     ]
    }
   ],
   "source": [
    "connection = cxn.connect(user='root', password='Hackathon2021'\n",
    "                            , host='127.0.0.1'\n",
    "                            , database='sample')\n",
    "print(connection)"
   ]
  },
  {
   "cell_type": "code",
   "execution_count": 12,
   "metadata": {},
   "outputs": [],
   "source": [
    "cursor = connection.cursor()\n",
    "drop_table = (\"\"\"drop table if exists samplejson3;\"\"\")\n",
    "cursor.execute(drop_table)"
   ]
  },
  {
   "cell_type": "code",
   "execution_count": 13,
   "metadata": {},
   "outputs": [],
   "source": [
    "connection.commit()"
   ]
  },
  {
   "cell_type": "code",
   "execution_count": 14,
   "metadata": {},
   "outputs": [],
   "source": [
    "create_table = (\n",
    "    \"\"\"create table samplejson3(\n",
    "         jobtitle VARCHAR(225) default NULL\n",
    "        , company VARCHAR(225) default NULL\n",
    "        , city VARCHAR(225) default NULL\n",
    "        , state VARCHAR(225) default NULL\n",
    "        , country VARCHAR(225) default NULL\n",
    "        , formattedLocation VARCHAR(225) default NULL\n",
    "        , source VARCHAR(225) default NULL\n",
    "        , date varchar(255) default NULL\n",
    "        , snippet VARCHAR(2000) default NULL\n",
    "        , url VARCHAR(225) default NULL\n",
    "        , onmousedown VARCHAR(225) default NULL\n",
    "        , jobkey INT default NULL\n",
    "    )\"\"\"\n",
    ")\n",
    "cursor.execute(create_table)"
   ]
  },
  {
   "cell_type": "code",
   "execution_count": 15,
   "metadata": {},
   "outputs": [],
   "source": [
    "connection.commit()"
   ]
  },
  {
   "cell_type": "code",
   "execution_count": 16,
   "metadata": {},
   "outputs": [],
   "source": [
    "with open (\"sample_json_data.json\") as json_file:\n",
    "    data = json.load(json_file)\n",
    "    temp = data[\"results\"]\n",
    "    for i in temp:\n",
    "        jobtitle=i.get(\"jobtitle\")\n",
    "        company=i.get(\"company\")\n",
    "        city=i.get(\"city\")\n",
    "        state=i.get(\"state\")\n",
    "        country=i.get(\"country\")\n",
    "        formattedLocation=i.get(\"formattedLocation\")\n",
    "        source=i.get(\"source\")\n",
    "        date=i.get(\"date\")\n",
    "        snippet=i.get(\"snippet\")\n",
    "        url=i.get(\"url\")\n",
    "        onmousedown=i.get(\"onmousedown\")\n",
    "        jobkey=i.get(\"jobkey\")\n",
    "        # sponsored=i.get(\"sponsored\")\n",
    "        # expired=i.get(\"expired\")\n",
    "        # indeedApply=i.get(\"indeedApply\")\n",
    "        sql=(\"\"\"\n",
    "            insert into samplejson3(\n",
    "                jobtitle\n",
    "                , company\n",
    "                , city\n",
    "                , state\n",
    "                , country\n",
    "                , formattedLocation\n",
    "                , source\n",
    "                , date\n",
    "                , snippet\n",
    "                , url\n",
    "                , onmousedown\n",
    "                , jobkey\n",
    "            ) value (%s, %s, %s, %s, %s, %s, %s, %s, %s, %s, %s, %s)\n",
    "        \"\"\")\n",
    "        val=(jobtitle\n",
    "            , company\n",
    "            , city\n",
    "            , state\n",
    "            , country\n",
    "            , formattedLocation\n",
    "            , source\n",
    "            , date\n",
    "            , snippet\n",
    "            , url\n",
    "            , onmousedown\n",
    "            , jobkey)\n",
    "        cursor.execute(sql, val)        "
   ]
  },
  {
   "cell_type": "code",
   "execution_count": 17,
   "metadata": {},
   "outputs": [],
   "source": [
    "connection.commit()\n",
    "cursor.close()\n",
    "connection.close()"
   ]
  },
  {
   "cell_type": "code",
   "execution_count": null,
   "metadata": {},
   "outputs": [],
   "source": []
  }
 ],
 "metadata": {
  "kernelspec": {
   "display_name": "Python 3",
   "language": "python",
   "name": "python3"
  },
  "language_info": {
   "codemirror_mode": {
    "name": "ipython",
    "version": 3
   },
   "file_extension": ".py",
   "mimetype": "text/x-python",
   "name": "python",
   "nbconvert_exporter": "python",
   "pygments_lexer": "ipython3",
   "version": "3.8.5"
  }
 },
 "nbformat": 4,
 "nbformat_minor": 4
}
